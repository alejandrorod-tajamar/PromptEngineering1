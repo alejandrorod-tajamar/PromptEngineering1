{
 "cells": [
  {
   "cell_type": "markdown",
   "metadata": {},
   "source": [
    "# OpenAI Parameters"
   ]
  },
  {
   "cell_type": "markdown",
   "metadata": {},
   "source": [
    "# Overview\n",
    "When making requests to OpenAI models, several parameters can be used to control the behavior and output of the model. \\\n",
    "Understanding these parameters helps in fine-tuning the responses to meet specific requirements, whether for generating text, answering questions, or any other use case.\n",
    "\n",
    "For more detailed examples, refer to the official documentation [Azure OpenAI Service](https://learn.microsoft.com/en-us/azure/ai-services/openai/reference)\n"
   ]
  },
  {
   "cell_type": "code",
   "execution_count": 12,
   "metadata": {},
   "outputs": [],
   "source": [
    "import re\n",
    "import requests\n",
    "import sys\n",
    "import os\n",
    "from openai import AzureOpenAI\n",
    "import tiktoken\n",
    "from dotenv import load_dotenv\n",
    "load_dotenv(override=True)\n",
    "\n",
    "azure_endpoint = os.environ.get(\"AZURE_OPENAI_ENDPOINT\")\n",
    "api_key = os.environ.get(\"AZURE_OPENAI_API_KEY\")\n",
    "\n",
    "client = AzureOpenAI(\n",
    "  azure_endpoint=azure_endpoint, \n",
    "  api_key=api_key,\n",
    "  api_version=\"2024-02-01\"\n",
    ")\n",
    "\n",
    "CHAT_COMPLETIONS_MODEL = \"gpt-4o-mini\"\n",
    "SEED = 123"
   ]
  },
  {
   "cell_type": "markdown",
   "metadata": {},
   "source": [
    "# Parameter: max_tokens\n",
    "**Description**: The maximum number of tokens to generate in the completion. \\\n",
    "**Default**: 16 \\\n",
    "**Example**: max_tokens=50\n",
    "\n",
    "The token count of your prompt plus max_tokens can't exceed the model's context length. \\\n",
    "Most models have a context length of 2048 tokens (except for the newest models, which support 4096). Please refer to documentation."
   ]
  },
  {
   "cell_type": "code",
   "execution_count": 13,
   "metadata": {},
   "outputs": [
    {
     "name": "stdout",
     "output_type": "stream",
     "text": [
      "Max Tokens: 16\n",
      "\n",
      "ChatCompletion(id='chatcmpl-As71hbrNnOvYZYRzdocKXUEnvU1ZI', choices=[Choice(finish_reason='length', index=0, logprobs=None, message=ChatCompletionMessage(content='The best pet can vary greatly depending on individual preferences and lifestyles! Some people love', refusal=None, role='assistant', audio=None, function_call=None, tool_calls=None), content_filter_results={'hate': {'filtered': False, 'severity': 'safe'}, 'self_harm': {'filtered': False, 'severity': 'safe'}, 'sexual': {'filtered': False, 'severity': 'safe'}, 'violence': {'filtered': False, 'severity': 'safe'}})], created=1737460085, model='gpt-4o-mini-2024-07-18', object='chat.completion', service_tier=None, system_fingerprint='fp_5154047bf2', usage=CompletionUsage(completion_tokens=16, prompt_tokens=22, total_tokens=38, completion_tokens_details=CompletionTokensDetails(accepted_prediction_tokens=0, audio_tokens=0, reasoning_tokens=0, rejected_prediction_tokens=0), prompt_tokens_details=PromptTokensDetails(audio_tokens=0, cached_tokens=0)), prompt_filter_results=[{'prompt_index': 0, 'content_filter_results': {'hate': {'filtered': False, 'severity': 'safe'}, 'jailbreak': {'filtered': False, 'detected': False}, 'self_harm': {'filtered': False, 'severity': 'safe'}, 'sexual': {'filtered': False, 'severity': 'safe'}, 'violence': {'filtered': False, 'severity': 'safe'}}}])\n",
      "\n",
      "--------------------------------------------------------------------------------\n",
      "\n",
      "Max Tokens: 32\n",
      "\n",
      "ChatCompletion(id='chatcmpl-As71hpZT6pslp8B8esNtOUsZClMGc', choices=[Choice(finish_reason='length', index=0, logprobs=None, message=ChatCompletionMessage(content='The best pet really depends on individual preferences and lifestyle! Here are a few popular options, each with their own unique benefits:\\n\\n1. **Dogs**: Known', refusal=None, role='assistant', audio=None, function_call=None, tool_calls=None), content_filter_results={'hate': {'filtered': False, 'severity': 'safe'}, 'self_harm': {'filtered': False, 'severity': 'safe'}, 'sexual': {'filtered': False, 'severity': 'safe'}, 'violence': {'filtered': False, 'severity': 'safe'}})], created=1737460085, model='gpt-4o-mini-2024-07-18', object='chat.completion', service_tier=None, system_fingerprint='fp_5154047bf2', usage=CompletionUsage(completion_tokens=32, prompt_tokens=22, total_tokens=54, completion_tokens_details=CompletionTokensDetails(accepted_prediction_tokens=0, audio_tokens=0, reasoning_tokens=0, rejected_prediction_tokens=0), prompt_tokens_details=PromptTokensDetails(audio_tokens=0, cached_tokens=0)), prompt_filter_results=[{'prompt_index': 0, 'content_filter_results': {'hate': {'filtered': False, 'severity': 'safe'}, 'jailbreak': {'filtered': False, 'detected': False}, 'self_harm': {'filtered': False, 'severity': 'safe'}, 'sexual': {'filtered': False, 'severity': 'safe'}, 'violence': {'filtered': False, 'severity': 'safe'}}}])\n",
      "\n",
      "--------------------------------------------------------------------------------\n",
      "\n",
      "Max Tokens: 60\n",
      "\n",
      "ChatCompletion(id='chatcmpl-As71ibs0vvJ3E11rZURAlHMIQhs5h', choices=[Choice(finish_reason='length', index=0, logprobs=None, message=ChatCompletionMessage(content=\"The best pet can vary greatly depending on a person's lifestyle, preferences, and needs. Here are some popular options:\\n\\n1. **Dogs** - Often considered loyal companions, dogs are great for active individuals and families. They require regular exercise, social interaction, and training.\\n\\n2. **Cats** -\", refusal=None, role='assistant', audio=None, function_call=None, tool_calls=None), content_filter_results={'hate': {'filtered': False, 'severity': 'safe'}, 'protected_material_code': {'filtered': False, 'detected': False}, 'protected_material_text': {'filtered': False, 'detected': False}, 'self_harm': {'filtered': False, 'severity': 'safe'}, 'sexual': {'filtered': False, 'severity': 'safe'}, 'violence': {'filtered': False, 'severity': 'safe'}})], created=1737460086, model='gpt-4o-mini-2024-07-18', object='chat.completion', service_tier=None, system_fingerprint='fp_5154047bf2', usage=CompletionUsage(completion_tokens=60, prompt_tokens=22, total_tokens=82, completion_tokens_details=CompletionTokensDetails(accepted_prediction_tokens=0, audio_tokens=0, reasoning_tokens=0, rejected_prediction_tokens=0), prompt_tokens_details=PromptTokensDetails(audio_tokens=0, cached_tokens=0)), prompt_filter_results=[{'prompt_index': 0, 'content_filter_results': {'hate': {'filtered': False, 'severity': 'safe'}, 'jailbreak': {'filtered': False, 'detected': False}, 'self_harm': {'filtered': False, 'severity': 'safe'}, 'sexual': {'filtered': False, 'severity': 'safe'}, 'violence': {'filtered': False, 'severity': 'safe'}}}])\n",
      "\n",
      "--------------------------------------------------------------------------------\n",
      "\n",
      "Max Tokens: 100\n",
      "\n",
      "ChatCompletion(id='chatcmpl-As71jmiIyKT2g6XD74z3tQ3cd5Yt5', choices=[Choice(finish_reason='length', index=0, logprobs=None, message=ChatCompletionMessage(content='The best pet can vary greatly depending on individual preferences, lifestyle, and living situation. Here are a few popular options, along with some of their benefits:\\n\\n1. **Dogs**: Known for their loyalty and companionship, dogs are great for active individuals or families. They require regular exercise and social interaction.\\n\\n2. **Cats**: Cats are generally more independent than dogs, making them suitable for those with busy lifestyles. They can be affectionate and playful while requiring less constant attention.\\n\\n3. **Fish', refusal=None, role='assistant', audio=None, function_call=None, tool_calls=None), content_filter_results={'hate': {'filtered': False, 'severity': 'safe'}, 'protected_material_code': {'filtered': False, 'detected': False}, 'protected_material_text': {'filtered': False, 'detected': False}, 'self_harm': {'filtered': False, 'severity': 'safe'}, 'sexual': {'filtered': False, 'severity': 'safe'}, 'violence': {'filtered': False, 'severity': 'safe'}})], created=1737460087, model='gpt-4o-mini-2024-07-18', object='chat.completion', service_tier=None, system_fingerprint='fp_5154047bf2', usage=CompletionUsage(completion_tokens=100, prompt_tokens=22, total_tokens=122, completion_tokens_details=CompletionTokensDetails(accepted_prediction_tokens=0, audio_tokens=0, reasoning_tokens=0, rejected_prediction_tokens=0), prompt_tokens_details=PromptTokensDetails(audio_tokens=0, cached_tokens=0)), prompt_filter_results=[{'prompt_index': 0, 'content_filter_results': {'hate': {'filtered': False, 'severity': 'safe'}, 'jailbreak': {'filtered': False, 'detected': False}, 'self_harm': {'filtered': False, 'severity': 'safe'}, 'sexual': {'filtered': False, 'severity': 'safe'}, 'violence': {'filtered': False, 'severity': 'safe'}}}])\n",
      "\n",
      "--------------------------------------------------------------------------------\n",
      "\n"
     ]
    }
   ],
   "source": [
    "def call_openai_with_max_tokens(max_tokens):\n",
    "    response = client.chat.completions.create(\n",
    "          model=\"gpt-4o-mini\",\n",
    "          messages = [{\"role\":\"system\", \"content\":\"You are a helpful assistant.\"},\n",
    "                    {\"role\":\"user\",\"content\": \"The best pet is a\"}],\n",
    "                    max_tokens=max_tokens\n",
    "    )\n",
    "    return response\n",
    "\n",
    "# Generate with different presence_penalty values\n",
    "penalties = [16, 32, 60, 100]\n",
    "for penalty in penalties:\n",
    "    print(f\"Max Tokens: {penalty}\\n\")\n",
    "    print(call_openai_with_max_tokens(penalty))\n",
    "    print(\"\\n\" + \"-\"*80 + \"\\n\")"
   ]
  },
  {
   "attachments": {},
   "cell_type": "markdown",
   "metadata": {},
   "source": [
    "# Parameter: temperature\n",
    "\n",
    "**Description**: Controls the randomness of the output. Lower values make the output more deterministic, while higher values increase randomness. \\\n",
    "**Value Range**: 0 to 1 \\\n",
    "**Default Value**: 1 \\\n",
    "**Example**: temperature=0.7\n",
    "\n",
    "Higher values means the model will take more risks. \\\n",
    "Try 0.9 for more creative applications, and 0 (argmax sampling) for ones with a well-defined answer.\n",
    "\n",
    "---\n",
    "**NOTE**: We generally recommend altering this or top_p but not both.\n"
   ]
  },
  {
   "cell_type": "code",
   "execution_count": 14,
   "metadata": {},
   "outputs": [],
   "source": [
    "def call_openai(num_times, prompt, temperature=0.75, use_seed=False):\n",
    "    for i in range(num_times):\n",
    "        if use_seed:\n",
    "            response = client.chat.completions.create(\n",
    "                model= CHAT_COMPLETIONS_MODEL,\n",
    "                messages = [{\"role\":\"system\", \"content\":\"You are a helpful assistant.\"},\n",
    "                            {\"role\":\"user\",\"content\": prompt}],\n",
    "                    max_tokens=60,\n",
    "                    seed=SEED,\n",
    "                    temperature = temperature\n",
    "            )\n",
    "        else:\n",
    "            response = client.chat.completions.create(\n",
    "                model= CHAT_COMPLETIONS_MODEL,\n",
    "                messages = [{\"role\":\"system\", \"content\":\"You are a helpful assistant.\"},\n",
    "                            {\"role\":\"user\",\"content\": prompt}],\n",
    "                    max_tokens=60,\n",
    "                    temperature = temperature\n",
    "            )\n",
    "        print(response.choices[0].message.content)"
   ]
  },
  {
   "cell_type": "code",
   "execution_count": 15,
   "metadata": {},
   "outputs": [
    {
     "name": "stdout",
     "output_type": "stream",
     "text": [
      "The best pet depends on individual preferences and lifestyles! Here are a few popular options:\n",
      "\n",
      "1. **Dogs** - Known for their loyalty and companionship. They require regular exercise and social interaction.\n",
      "2. **Cats** - Independent yet affectionate, cats are often lower maintenance than dogs and can be great for\n",
      "The best pet is subjective and depends on individual preferences, lifestyles, and needs. Some people might say a dog is the best pet because of their loyalty and companionship, while others might prefer cats for their independence and low maintenance. Some may choose pets like rabbits, birds, or fish for their unique qualities\n",
      "The best pet can vary widely depending on individual preferences, lifestyles, and living situations. Here are a few popular options:\n",
      "\n",
      "1. **Dogs**: Known for their loyalty and companionship, dogs are often considered \"man's best friend.\" They require regular exercise and attention.\n",
      "\n",
      "2. **Cats**: Independent\n",
      "The best pet can vary depending on individual preferences, lifestyles, and living situations. Here are a few popular options:\n",
      "\n",
      "1. **Dogs**: Known for their loyalty and companionship, dogs are great for active individuals or families. They require regular exercise and training but can be very rewarding pets.\n",
      "\n",
      "2.\n",
      "The best pet can vary greatly depending on individual preferences, lifestyles, and needs. Here are a few popular options:\n",
      "\n",
      "1. **Dogs**: Known for their loyalty and companionship, dogs are great for active individuals or families. They require regular exercise, training, and social interaction.\n",
      "\n",
      "2. **Cats\n",
      "The best pet can vary greatly depending on individual preferences, lifestyles, and living situations. Here are a few options that are often considered great pets:\n",
      "\n",
      "1. **Dogs**: Known for their loyalty and companionship, dogs can be wonderful pets for active individuals or families. They require regular exercise, training,\n",
      "The best pet can vary greatly depending on individual preferences, lifestyle, and living situation. Here are a few popular options:\n",
      "\n",
      "1. **Dogs** - Known for their loyalty and companionship, dogs are often considered great pets for active individuals or families. They require regular exercise and social interaction.\n",
      "\n",
      "2. **\n",
      "The best pet can vary greatly depending on individual preferences, lifestyles, and living situations. Some popular choices include:\n",
      "\n",
      "1. **Dogs** - Known for their loyalty and companionship, dogs can be great for active individuals or families who enjoy outdoor activities.\n",
      "2. **Cats** - Independent and often low-maint\n",
      "The best pet is often considered to be one that fits well with a person's lifestyle, preferences, and needs. For some, dogs are the best pets because of their loyalty, companionship, and ability to be trained. For others, cats might be the better choice due to their independence and low-maintenance\n",
      "The best pet can vary greatly depending on individual preferences, lifestyles, and living situations. Some popular options include:\n",
      "\n",
      "1. **Dogs** - Known for their loyalty and companionship, dogs are often referred to as \"man's best friend.\" They require regular exercise and social interaction.\n",
      "\n",
      "2. **Cats** -\n"
     ]
    }
   ],
   "source": [
    "# Without seed and temperature, the response is different each time\n",
    "call_openai(10, 'The best pet is a ')"
   ]
  },
  {
   "cell_type": "code",
   "execution_count": 16,
   "metadata": {},
   "outputs": [
    {
     "name": "stdout",
     "output_type": "stream",
     "text": [
      "The best pet can vary greatly depending on individual preferences, lifestyles, and living situations. Here are a few popular options:\n",
      "\n",
      "1. **Dogs**: Known for their loyalty and companionship, dogs are often considered \"man's best friend.\" They require regular exercise and social interaction.\n",
      "\n",
      "2. **Cats**:\n",
      "The best pet can vary greatly depending on individual preferences, lifestyles, and living situations. Here are a few popular options:\n",
      "\n",
      "1. **Dogs**: Known for their loyalty and companionship, dogs are often considered \"man's best friend.\" They require regular exercise and social interaction.\n",
      "\n",
      "2. **Cats**:\n",
      "The best pet can vary greatly depending on individual preferences, lifestyles, and living situations. Here are a few popular options:\n",
      "\n",
      "1. **Dogs**: Known for their loyalty and companionship, dogs are great for active individuals or families. They require regular exercise and social interaction.\n",
      "\n",
      "2. **Cats**:\n",
      "The best pet can vary greatly depending on individual preferences, lifestyles, and living situations. Here are a few popular options:\n",
      "\n",
      "1. **Dogs**: Known for their loyalty and companionship, dogs are often considered \"man's best friend.\" They require regular exercise and social interaction.\n",
      "\n",
      "2. **Cats**:\n",
      "The best pet can vary greatly depending on individual preferences, lifestyles, and living situations. Here are a few popular options:\n",
      "\n",
      "1. **Dogs**: Known for their loyalty and companionship, dogs are often considered \"man's best friend.\" They require regular exercise and social interaction.\n",
      "\n",
      "2. **Cats**:\n",
      "The best pet can vary greatly depending on individual preferences, lifestyles, and living situations. Here are a few popular options:\n",
      "\n",
      "1. **Dogs**: Known for their loyalty and companionship, dogs are great for active individuals or families. They require regular exercise and social interaction.\n",
      "\n",
      "2. **Cats**:\n",
      "The best pet can vary greatly depending on individual preferences, lifestyles, and living situations. Here are a few popular options:\n",
      "\n",
      "1. **Dogs**: Known for their loyalty and companionship, dogs are often considered \"man's best friend.\" They require regular exercise and social interaction.\n",
      "\n",
      "2. **Cats**:\n",
      "The best pet can vary greatly depending on individual preferences, lifestyles, and living situations. Here are a few popular options:\n",
      "\n",
      "1. **Dogs**: Known for their loyalty and companionship, dogs are often considered \"man's best friend.\" They require regular exercise and social interaction.\n",
      "\n",
      "2. **Cats**:\n",
      "The best pet can vary greatly depending on individual preferences, lifestyles, and living situations. Here are a few popular options:\n",
      "\n",
      "1. **Dogs**: Known for their loyalty and companionship, dogs are often considered \"man's best friend.\" They require regular exercise and social interaction.\n",
      "\n",
      "2. **Cats**:\n",
      "The best pet can vary greatly depending on individual preferences, lifestyles, and living situations. Here are a few popular options:\n",
      "\n",
      "1. **Dogs**: Known for their loyalty and companionship, dogs are often considered \"man's best friend.\" They require regular exercise and social interaction.\n",
      "\n",
      "2. **Cats**:\n"
     ]
    }
   ],
   "source": [
    "# Now using a seed and 0 temperature, the response is the much more consisitent\n",
    "call_openai(10, 'The best pet is a ', temperature = 0, use_seed=True)"
   ]
  },
  {
   "attachments": {},
   "cell_type": "markdown",
   "metadata": {},
   "source": [
    "# Parameter: n\n",
    "**Description**: Specifies the number of completions to generate for each prompt. \\\n",
    "**Default Value**: 1 \\\n",
    "**Example**: n = 3 \n",
    "\n",
    "---\n",
    "**Note**: Because this parameter generates many completions, it can quickly consume your token quota. Use carefully and ensure that you have reasonable settings for max_tokens and stop."
   ]
  },
  {
   "cell_type": "code",
   "execution_count": 24,
   "metadata": {},
   "outputs": [
    {
     "name": "stdout",
     "output_type": "stream",
     "text": [
      "0 The best pet can vary depending on individual preferences, lifestyle, and needs. Here are a few options that people often consider as great pets:\n",
      "\n",
      "1. **Dogs**: Known for their loyalty and companionship, dogs are often referred to as \"man's best friend.\" They require regular exercise and social interaction.\n",
      "\n",
      "2. **Cats**: Independent yet affectionate, cats can be great for people who may not have as much time for a pet. They are generally low-maintenance and can be very playful.\n",
      "\n",
      "3\n",
      "1 The best pet can vary depending on individual preferences, living situations, and lifestyles. Here are some popular options:\n",
      "\n",
      "1. **Dog**: Known for their loyalty and companionship, dogs are often considered \"man's best friend.\" They require regular exercise and social interaction.\n",
      "\n",
      "2. **Cat**: Cats are independent and low-maintenance pets. They can be affectionate and playful while also being content to entertain themselves.\n",
      "\n",
      "3. **Fish**: Fish are calming to watch and require less interaction than mammals. They\n",
      "2 The best pet can vary from person to person, depending on individual preferences, lifestyle, and living situation. Here are a few popular options:\n",
      "\n",
      "1. **Dogs**: Known for their loyalty and companionship, dogs are great for active individuals or families. They require regular exercise and social interaction.\n",
      "\n",
      "2. **Cats**: Cats are often more independent than dogs and can be a good choice for people with busy lifestyles. They still provide companionship and affection.\n",
      "\n",
      "3. **Fish**: For those who prefer\n"
     ]
    }
   ],
   "source": [
    "response = client.chat.completions.create(\n",
    "    model=CHAT_COMPLETIONS_MODEL,\n",
    "    messages=[{\"role\": \"system\", \"content\": \"You are a helpful assistant.\"},\n",
    "              {\"role\": \"user\", \"content\": \"The best pet is a \"}],\n",
    "    max_tokens=100,\n",
    "    temperature=0.75,\n",
    "    n=3\n",
    ")\n",
    "\n",
    "for index, c in enumerate(response.choices):\n",
    "    print(index, c.message.content)"
   ]
  },
  {
   "attachments": {},
   "cell_type": "markdown",
   "metadata": {},
   "source": [
    "# Parameter: presence_penalty\n",
    "**Description**: Penalizes new tokens based on whether they appear in the text so far, encouraging the model to use new tokens. \\\n",
    "**Value Range**: -2.0 to 2.0 \\\n",
    "**Default Value**: 0 \\\n",
    "**Example**: presence_penalty=0.5"
   ]
  },
  {
   "cell_type": "code",
   "execution_count": 25,
   "metadata": {},
   "outputs": [
    {
     "name": "stdout",
     "output_type": "stream",
     "text": [
      "Presence Penalty: 0\n",
      "\n",
      "ChatCompletion(id='chatcmpl-As7Cz92LPb6GAnSL0yh6rZrWJzS9D', choices=[Choice(finish_reason='length', index=0, logprobs=None, message=ChatCompletionMessage(content='The best pet can vary greatly depending on individual preferences, lifestyle, and circumstances. Some popular choices include:\\n\\n1. **Dogs**: Known for their loyalty and companionship. They require daily exercise and social interaction.\\n2. **Cats**: Independent yet affectionate, they are often easier to care for in', refusal=None, role='assistant', audio=None, function_call=None, tool_calls=None), content_filter_results={'hate': {'filtered': False, 'severity': 'safe'}, 'self_harm': {'filtered': False, 'severity': 'safe'}, 'sexual': {'filtered': False, 'severity': 'safe'}, 'violence': {'filtered': False, 'severity': 'safe'}})], created=1737460785, model='gpt-4o-mini-2024-07-18', object='chat.completion', service_tier=None, system_fingerprint='fp_f3927aa00d', usage=CompletionUsage(completion_tokens=60, prompt_tokens=22, total_tokens=82, completion_tokens_details=CompletionTokensDetails(accepted_prediction_tokens=0, audio_tokens=0, reasoning_tokens=0, rejected_prediction_tokens=0), prompt_tokens_details=PromptTokensDetails(audio_tokens=0, cached_tokens=0)), prompt_filter_results=[{'prompt_index': 0, 'content_filter_results': {'hate': {'filtered': False, 'severity': 'safe'}, 'jailbreak': {'filtered': False, 'detected': False}, 'self_harm': {'filtered': False, 'severity': 'safe'}, 'sexual': {'filtered': False, 'severity': 'safe'}, 'violence': {'filtered': False, 'severity': 'safe'}}}])\n",
      "\n",
      "--------------------------------------------------------------------------------\n",
      "\n",
      "Presence Penalty: 0.5\n",
      "\n",
      "ChatCompletion(id='chatcmpl-As7D0LfPGe1YMhhF5nbpn1wKeQO2C', choices=[Choice(finish_reason='length', index=0, logprobs=None, message=ChatCompletionMessage(content='The best pet can vary depending on individual preferences, lifestyles, and needs. Here are a few popular options:\\n\\n1. **Dogs**: Known for their loyalty and companionship. They require regular exercise and social interaction.\\n2. **Cats**: Independent and low-maintenance, cats can be great for', refusal=None, role='assistant', audio=None, function_call=None, tool_calls=None), content_filter_results={'hate': {'filtered': False, 'severity': 'safe'}, 'self_harm': {'filtered': False, 'severity': 'safe'}, 'sexual': {'filtered': False, 'severity': 'safe'}, 'violence': {'filtered': False, 'severity': 'safe'}})], created=1737460786, model='gpt-4o-mini-2024-07-18', object='chat.completion', service_tier=None, system_fingerprint='fp_5154047bf2', usage=CompletionUsage(completion_tokens=60, prompt_tokens=22, total_tokens=82, completion_tokens_details=CompletionTokensDetails(accepted_prediction_tokens=0, audio_tokens=0, reasoning_tokens=0, rejected_prediction_tokens=0), prompt_tokens_details=PromptTokensDetails(audio_tokens=0, cached_tokens=0)), prompt_filter_results=[{'prompt_index': 0, 'content_filter_results': {'hate': {'filtered': False, 'severity': 'safe'}, 'jailbreak': {'filtered': False, 'detected': False}, 'self_harm': {'filtered': False, 'severity': 'safe'}, 'sexual': {'filtered': False, 'severity': 'safe'}, 'violence': {'filtered': False, 'severity': 'safe'}}}])\n",
      "\n",
      "--------------------------------------------------------------------------------\n",
      "\n",
      "Presence Penalty: 1.0\n",
      "\n",
      "ChatCompletion(id='chatcmpl-As7D1WPLurKWyL3BLuKkvaALQa7f0', choices=[Choice(finish_reason='length', index=0, logprobs=None, message=ChatCompletionMessage(content='The best pet often depends on individual preferences, lifestyles, and needs. Some popular options include:\\n\\n1. **Dogs**: Known for their loyalty and companionship, dogs are great for active individuals or families.\\n2. **Cats**: Cats can be more independent and require less attention than dogs, making', refusal=None, role='assistant', audio=None, function_call=None, tool_calls=None), content_filter_results={'hate': {'filtered': False, 'severity': 'safe'}, 'self_harm': {'filtered': False, 'severity': 'safe'}, 'sexual': {'filtered': False, 'severity': 'safe'}, 'violence': {'filtered': False, 'severity': 'safe'}})], created=1737460787, model='gpt-4o-mini-2024-07-18', object='chat.completion', service_tier=None, system_fingerprint='fp_f3927aa00d', usage=CompletionUsage(completion_tokens=60, prompt_tokens=22, total_tokens=82, completion_tokens_details=CompletionTokensDetails(accepted_prediction_tokens=0, audio_tokens=0, reasoning_tokens=0, rejected_prediction_tokens=0), prompt_tokens_details=PromptTokensDetails(audio_tokens=0, cached_tokens=0)), prompt_filter_results=[{'prompt_index': 0, 'content_filter_results': {'hate': {'filtered': False, 'severity': 'safe'}, 'jailbreak': {'filtered': False, 'detected': False}, 'self_harm': {'filtered': False, 'severity': 'safe'}, 'sexual': {'filtered': False, 'severity': 'safe'}, 'violence': {'filtered': False, 'severity': 'safe'}}}])\n",
      "\n",
      "--------------------------------------------------------------------------------\n",
      "\n",
      "Presence Penalty: 1.5\n",
      "\n",
      "ChatCompletion(id='chatcmpl-As7D2ngwdcyLGAWVf8F3k31afzhFT', choices=[Choice(finish_reason='length', index=0, logprobs=None, message=ChatCompletionMessage(content='The best pet often depends on individual preferences and circumstances. Some popular choices include:\\n\\n1. **Dogs** - Known for their loyalty and companionship, dogs are great for active individuals or families.\\n2. **Cats** - More independent than dogs, cats can be perfect for people with busy lifestyles.\\n3', refusal=None, role='assistant', audio=None, function_call=None, tool_calls=None), content_filter_results={'hate': {'filtered': False, 'severity': 'safe'}, 'self_harm': {'filtered': False, 'severity': 'safe'}, 'sexual': {'filtered': False, 'severity': 'safe'}, 'violence': {'filtered': False, 'severity': 'safe'}})], created=1737460788, model='gpt-4o-mini-2024-07-18', object='chat.completion', service_tier=None, system_fingerprint='fp_f3927aa00d', usage=CompletionUsage(completion_tokens=60, prompt_tokens=22, total_tokens=82, completion_tokens_details=CompletionTokensDetails(accepted_prediction_tokens=0, audio_tokens=0, reasoning_tokens=0, rejected_prediction_tokens=0), prompt_tokens_details=PromptTokensDetails(audio_tokens=0, cached_tokens=0)), prompt_filter_results=[{'prompt_index': 0, 'content_filter_results': {'hate': {'filtered': False, 'severity': 'safe'}, 'jailbreak': {'filtered': False, 'detected': False}, 'self_harm': {'filtered': False, 'severity': 'safe'}, 'sexual': {'filtered': False, 'severity': 'safe'}, 'violence': {'filtered': False, 'severity': 'safe'}}}])\n",
      "\n",
      "--------------------------------------------------------------------------------\n",
      "\n",
      "Presence Penalty: 2.0\n",
      "\n",
      "ChatCompletion(id='chatcmpl-As7D22iYyGsidejIwjPXeljNpkWsA', choices=[Choice(finish_reason='length', index=0, logprobs=None, message=ChatCompletionMessage(content='The best pet can vary greatly depending on individual preferences, lifestyle, and living situation. Here are a few popular options:\\n\\n1. **Dogs**: Known for their loyalty and companionship, dogs require regular exercise and social interaction.\\n2. **Cats**: Often more independent than dogs, cats can be', refusal=None, role='assistant', audio=None, function_call=None, tool_calls=None), content_filter_results={'hate': {'filtered': False, 'severity': 'safe'}, 'self_harm': {'filtered': False, 'severity': 'safe'}, 'sexual': {'filtered': False, 'severity': 'safe'}, 'violence': {'filtered': False, 'severity': 'safe'}})], created=1737460788, model='gpt-4o-mini-2024-07-18', object='chat.completion', service_tier=None, system_fingerprint='fp_5154047bf2', usage=CompletionUsage(completion_tokens=60, prompt_tokens=22, total_tokens=82, completion_tokens_details=CompletionTokensDetails(accepted_prediction_tokens=0, audio_tokens=0, reasoning_tokens=0, rejected_prediction_tokens=0), prompt_tokens_details=PromptTokensDetails(audio_tokens=0, cached_tokens=0)), prompt_filter_results=[{'prompt_index': 0, 'content_filter_results': {'hate': {'filtered': False, 'severity': 'safe'}, 'jailbreak': {'filtered': False, 'detected': False}, 'self_harm': {'filtered': False, 'severity': 'safe'}, 'sexual': {'filtered': False, 'severity': 'safe'}, 'violence': {'filtered': False, 'severity': 'safe'}}}])\n",
      "\n",
      "--------------------------------------------------------------------------------\n",
      "\n"
     ]
    }
   ],
   "source": [
    "def call_openai_with_presence_penalty(presence_penalty):\n",
    "    response = client.chat.completions.create(\n",
    "          model=CHAT_COMPLETIONS_MODEL,\n",
    "          messages = [{\"role\":\"system\", \"content\":\"You are a helpful assistant.\"},\n",
    "                    {\"role\":\"user\",\"content\": \"The best pet is a\"}],\n",
    "                    max_tokens=60,\n",
    "                    presence_penalty= presence_penalty\n",
    "    )\n",
    "    return response\n",
    "\n",
    "# Generate with different presence_penalty values\n",
    "penalties = [0, 0.5, 1.0, 1.5, 2.0]\n",
    "for penalty in penalties:\n",
    "    print(f\"Presence Penalty: {penalty}\\n\")\n",
    "    print(call_openai_with_presence_penalty(penalty))\n",
    "    print(\"\\n\" + \"-\"*80 + \"\\n\")"
   ]
  },
  {
   "cell_type": "markdown",
   "metadata": {},
   "source": [
    "# Parameter: frequency_penalty\n",
    "**Description**: Penalizes new tokens based on their existing frequency in the text so far, reducing the likelihood of repeating the same line verbatim. \\\n",
    "**Value Range**: -2.0 to 2.0 \\\n",
    "**Default Value**: 0 \\\n",
    "**Example**: frequency_penalty=0.5"
   ]
  },
  {
   "cell_type": "markdown",
   "metadata": {},
   "source": [
    "#### Use cases to explore\n",
    "1. **Compare Responses** \\\n",
    "Generate multiple completions to compare and choose the best response for your use case.\n",
    "\n",
    "2. **Increase Diversity** \\\n",
    "Use multiple completions to get a variety of responses, which is useful in creative applications.\n",
    "\n",
    "3. **Enhance Robustness** \\\n",
    "Generate multiple responses to ensure consistency and accuracy across different completions.\n",
    "\n",
    "#### Best Practices\n",
    "1. **Optimize Prompt Length** \\\n",
    "Keep your prompts concise but informative to ensure the model has enough context.\n",
    "\n",
    "2. **Adjust Temperature and Top_p** \\\n",
    "Use these parameters to balance between deterministic and creative responses.\n",
    "\n",
    "3. **Monitor Token Usage** \\\n",
    "Be mindful of the max_tokens parameter to manage costs and response length.\n",
    "\n",
    "4. **Use Stopping Sequences** \\\n",
    "Define stopping sequences to control where the model should stop generating text, ensuring the output is within the desired context.\n",
    "\n",
    "5. **Generate Multiple Completions** \\\n",
    "Use the n parameter to generate multiple completions and select the best one for your needs."
   ]
  },
  {
   "cell_type": "markdown",
   "metadata": {},
   "source": [
    "## Exercise 1: Exploring 'top_p' Parameter\n",
    "### Description:\n",
    "- The 'top_p' parameter controls nucleus sampling. Lower values make the output more focused by limiting the pool of tokens.\n",
    "\n",
    "### Task:\n",
    "- Write a function that calls the model with different 'top_p' values and observe how the output changes.\n"
   ]
  },
  {
   "cell_type": "code",
   "execution_count": 26,
   "metadata": {},
   "outputs": [
    {
     "name": "stdout",
     "output_type": "stream",
     "text": [
      "Top P: 0.1\n",
      "\n",
      "ChatCompletion(id='chatcmpl-As7DdkBmtU5ykafi9uFq2PreaHm2S', choices=[Choice(finish_reason='length', index=0, logprobs=None, message=ChatCompletionMessage(content='Exercise offers a wide range of benefits for both physical and mental health. Here are some of the key advantages:\\n\\n### Physical Health Benefits:\\n1. **Improved Cardiovascular Health**: Regular exercise strengthens the heart, improves circulation, and can lower blood pressure and cholesterol levels, reducing the risk of heart', refusal=None, role='assistant', audio=None, function_call=None, tool_calls=None), content_filter_results={'hate': {'filtered': False, 'severity': 'safe'}, 'self_harm': {'filtered': False, 'severity': 'safe'}, 'sexual': {'filtered': False, 'severity': 'safe'}, 'violence': {'filtered': False, 'severity': 'safe'}})], created=1737460825, model='gpt-4o-mini-2024-07-18', object='chat.completion', service_tier=None, system_fingerprint='fp_f3927aa00d', usage=CompletionUsage(completion_tokens=60, prompt_tokens=23, total_tokens=83, completion_tokens_details=CompletionTokensDetails(accepted_prediction_tokens=0, audio_tokens=0, reasoning_tokens=0, rejected_prediction_tokens=0), prompt_tokens_details=PromptTokensDetails(audio_tokens=0, cached_tokens=0)), prompt_filter_results=[{'prompt_index': 0, 'content_filter_results': {'hate': {'filtered': False, 'severity': 'safe'}, 'jailbreak': {'filtered': False, 'detected': False}, 'self_harm': {'filtered': False, 'severity': 'safe'}, 'sexual': {'filtered': False, 'severity': 'safe'}, 'violence': {'filtered': False, 'severity': 'safe'}}}])\n",
      "\n",
      "--------------------------------------------------------------------------------\n",
      "\n",
      "Top P: 0.3\n",
      "\n",
      "ChatCompletion(id='chatcmpl-As7De5IbhaURNtOcoT5qLBzrQtttx', choices=[Choice(finish_reason='length', index=0, logprobs=None, message=ChatCompletionMessage(content='Exercise offers a wide range of benefits for both physical and mental health. Here are some of the key advantages:\\n\\n### Physical Health Benefits\\n\\n1. **Improved Cardiovascular Health**: Regular exercise strengthens the heart, improves circulation, and helps lower blood pressure and cholesterol levels.\\n\\n2. **Weight Management', refusal=None, role='assistant', audio=None, function_call=None, tool_calls=None), content_filter_results={'hate': {'filtered': False, 'severity': 'safe'}, 'self_harm': {'filtered': False, 'severity': 'safe'}, 'sexual': {'filtered': False, 'severity': 'safe'}, 'violence': {'filtered': False, 'severity': 'safe'}})], created=1737460826, model='gpt-4o-mini-2024-07-18', object='chat.completion', service_tier=None, system_fingerprint='fp_5154047bf2', usage=CompletionUsage(completion_tokens=60, prompt_tokens=23, total_tokens=83, completion_tokens_details=CompletionTokensDetails(accepted_prediction_tokens=0, audio_tokens=0, reasoning_tokens=0, rejected_prediction_tokens=0), prompt_tokens_details=PromptTokensDetails(audio_tokens=0, cached_tokens=0)), prompt_filter_results=[{'prompt_index': 0, 'content_filter_results': {'hate': {'filtered': False, 'severity': 'safe'}, 'jailbreak': {'filtered': False, 'detected': False}, 'self_harm': {'filtered': False, 'severity': 'safe'}, 'sexual': {'filtered': False, 'severity': 'safe'}, 'violence': {'filtered': False, 'severity': 'safe'}}}])\n",
      "\n",
      "--------------------------------------------------------------------------------\n",
      "\n",
      "Top P: 0.7\n",
      "\n",
      "ChatCompletion(id='chatcmpl-As7Dfh6IUN8jEcMIFhkVXqeVjySyT', choices=[Choice(finish_reason='length', index=0, logprobs=None, message=ChatCompletionMessage(content='Exercise offers a wide range of benefits for both physical and mental health. Here are some key advantages:\\n\\n### Physical Health Benefits\\n\\n1. **Improved Cardiovascular Health**: Regular exercise strengthens the heart, improves circulation, and lowers blood pressure, reducing the risk of heart disease.\\n\\n2. **Weight', refusal=None, role='assistant', audio=None, function_call=None, tool_calls=None), content_filter_results={'hate': {'filtered': False, 'severity': 'safe'}, 'self_harm': {'filtered': False, 'severity': 'safe'}, 'sexual': {'filtered': False, 'severity': 'safe'}, 'violence': {'filtered': False, 'severity': 'safe'}})], created=1737460827, model='gpt-4o-mini-2024-07-18', object='chat.completion', service_tier=None, system_fingerprint='fp_5154047bf2', usage=CompletionUsage(completion_tokens=60, prompt_tokens=23, total_tokens=83, completion_tokens_details=CompletionTokensDetails(accepted_prediction_tokens=0, audio_tokens=0, reasoning_tokens=0, rejected_prediction_tokens=0), prompt_tokens_details=PromptTokensDetails(audio_tokens=0, cached_tokens=0)), prompt_filter_results=[{'prompt_index': 0, 'content_filter_results': {'hate': {'filtered': False, 'severity': 'safe'}, 'jailbreak': {'filtered': False, 'detected': False}, 'self_harm': {'filtered': False, 'severity': 'safe'}, 'sexual': {'filtered': False, 'severity': 'safe'}, 'violence': {'filtered': False, 'severity': 'safe'}}}])\n",
      "\n",
      "--------------------------------------------------------------------------------\n",
      "\n",
      "Top P: 1.0\n",
      "\n",
      "ChatCompletion(id='chatcmpl-As7DgRQkptoLQhrV6DBvGt2SWPS4Y', choices=[Choice(finish_reason='length', index=0, logprobs=None, message=ChatCompletionMessage(content='Exercise offers a multitude of benefits that contribute to overall health and well-being. Here are some key advantages:\\n\\n1. **Physical Health**: Regular physical activity strengthens the heart, muscles, and bones. It improves cardiovascular health, enhances respiratory function, and promotes better circulation, which can lead to a longer', refusal=None, role='assistant', audio=None, function_call=None, tool_calls=None), content_filter_results={'hate': {'filtered': False, 'severity': 'safe'}, 'self_harm': {'filtered': False, 'severity': 'safe'}, 'sexual': {'filtered': False, 'severity': 'safe'}, 'violence': {'filtered': False, 'severity': 'safe'}})], created=1737460828, model='gpt-4o-mini-2024-07-18', object='chat.completion', service_tier=None, system_fingerprint='fp_5154047bf2', usage=CompletionUsage(completion_tokens=60, prompt_tokens=23, total_tokens=83, completion_tokens_details=CompletionTokensDetails(accepted_prediction_tokens=0, audio_tokens=0, reasoning_tokens=0, rejected_prediction_tokens=0), prompt_tokens_details=PromptTokensDetails(audio_tokens=0, cached_tokens=0)), prompt_filter_results=[{'prompt_index': 0, 'content_filter_results': {'hate': {'filtered': False, 'severity': 'safe'}, 'jailbreak': {'filtered': False, 'detected': False}, 'self_harm': {'filtered': False, 'severity': 'safe'}, 'sexual': {'filtered': False, 'severity': 'safe'}, 'violence': {'filtered': False, 'severity': 'safe'}}}])\n",
      "\n",
      "--------------------------------------------------------------------------------\n",
      "\n"
     ]
    }
   ],
   "source": [
    "def call_openai_with_top_p(top_p):\n",
    "    response = client.chat.completions.create(\n",
    "          model= CHAT_COMPLETIONS_MODEL,\n",
    "          messages = [{\"role\":\"system\", \"content\":\"You are a helpful assistant.\"},\n",
    "                    {\"role\":\"user\",\"content\": \"Describe the benefits of exercise.\"}],\n",
    "                    max_tokens=60,\n",
    "                    top_p= top_p\n",
    "    )\n",
    "    return response\n",
    "\n",
    "# Try with different values of top_p\n",
    "top_p_values = [0.1, 0.3, 0.7, 1.0]\n",
    "for value in top_p_values:\n",
    "    print(f\"Top P: {value}\\n\")\n",
    "    print(call_openai_with_top_p(value))\n",
    "    print(\"\\n\" + \"-\"*80 + \"\\n\")\n"
   ]
  },
  {
   "cell_type": "markdown",
   "metadata": {},
   "source": [
    "## Exercise 2: Frequency Penalty Exploration\n",
    "### Description:\n",
    "- This exercise will explore how the 'frequency_penalty' parameter affects the model's tendency to repeat itself.\n",
    "\n",
    "### Task:\n",
    "- Generate completions using different frequency_penalty values and note the diversity in responses.\n",
    "\n"
   ]
  },
  {
   "cell_type": "code",
   "execution_count": 27,
   "metadata": {},
   "outputs": [
    {
     "name": "stdout",
     "output_type": "stream",
     "text": [
      "Frequency Penalty: -1.0\n",
      "\n",
      "ChatCompletion(id='chatcmpl-As7DyI7GW7a05IAMZnoRWOBSuBmOQ', choices=[Choice(finish_reason='length', index=0, logprobs=None, message=ChatCompletionMessage(content='One fun fact about space is that a day on Venus is longer than a year on Venus! Venus has a very slow rotation on its axis, taking about 243 Earth days to complete one full rotation. In contrast, it only takes about 225 Earth days to orbit the Sun. This means that', refusal=None, role='assistant', audio=None, function_call=None, tool_calls=None), content_filter_results={'hate': {'filtered': False, 'severity': 'safe'}, 'self_harm': {'filtered': False, 'severity': 'safe'}, 'sexual': {'filtered': False, 'severity': 'safe'}, 'violence': {'filtered': False, 'severity': 'safe'}})], created=1737460846, model='gpt-4o-mini-2024-07-18', object='chat.completion', service_tier=None, system_fingerprint='fp_5154047bf2', usage=CompletionUsage(completion_tokens=60, prompt_tokens=25, total_tokens=85, completion_tokens_details=CompletionTokensDetails(accepted_prediction_tokens=0, audio_tokens=0, reasoning_tokens=0, rejected_prediction_tokens=0), prompt_tokens_details=PromptTokensDetails(audio_tokens=0, cached_tokens=0)), prompt_filter_results=[{'prompt_index': 0, 'content_filter_results': {'hate': {'filtered': False, 'severity': 'safe'}, 'jailbreak': {'filtered': False, 'detected': False}, 'self_harm': {'filtered': False, 'severity': 'safe'}, 'sexual': {'filtered': False, 'severity': 'safe'}, 'violence': {'filtered': False, 'severity': 'safe'}}}])\n",
      "\n",
      "--------------------------------------------------------------------------------\n",
      "\n",
      "Frequency Penalty: 0.0\n",
      "\n",
      "ChatCompletion(id='chatcmpl-As7Dzl4VnGfgvnh5bkoq930cFvJ88', choices=[Choice(finish_reason='length', index=0, logprobs=None, message=ChatCompletionMessage(content='Sure! Did you know that a day on Venus is longer than a year on Venus? Venus has an incredibly slow rotation on its axis, taking about 243 Earth days to complete one full rotation. In comparison, it takes only about 225 Earth days for Venus to orbit the Sun. This means', refusal=None, role='assistant', audio=None, function_call=None, tool_calls=None), content_filter_results={'hate': {'filtered': False, 'severity': 'safe'}, 'self_harm': {'filtered': False, 'severity': 'safe'}, 'sexual': {'filtered': False, 'severity': 'safe'}, 'violence': {'filtered': False, 'severity': 'safe'}})], created=1737460847, model='gpt-4o-mini-2024-07-18', object='chat.completion', service_tier=None, system_fingerprint='fp_f3927aa00d', usage=CompletionUsage(completion_tokens=60, prompt_tokens=25, total_tokens=85, completion_tokens_details=CompletionTokensDetails(accepted_prediction_tokens=0, audio_tokens=0, reasoning_tokens=0, rejected_prediction_tokens=0), prompt_tokens_details=PromptTokensDetails(audio_tokens=0, cached_tokens=0)), prompt_filter_results=[{'prompt_index': 0, 'content_filter_results': {'hate': {'filtered': False, 'severity': 'safe'}, 'jailbreak': {'filtered': False, 'detected': False}, 'self_harm': {'filtered': False, 'severity': 'safe'}, 'sexual': {'filtered': False, 'severity': 'safe'}, 'violence': {'filtered': False, 'severity': 'safe'}}}])\n",
      "\n",
      "--------------------------------------------------------------------------------\n",
      "\n",
      "Frequency Penalty: 1.0\n",
      "\n",
      "ChatCompletion(id='chatcmpl-As7E0LqmC4TWDTU2I4Q6enrc6haCI', choices=[Choice(finish_reason='length', index=0, logprobs=None, message=ChatCompletionMessage(content=\"A fun fact about space is that there are more stars in the universe than there are grains of sand on all the beaches on Earth! It's estimated that there are about 100 billion galaxies, each containing millions or even billions of stars. This leads to an estimate of around 1 septillion (1\", refusal=None, role='assistant', audio=None, function_call=None, tool_calls=None), content_filter_results={'hate': {'filtered': False, 'severity': 'safe'}, 'self_harm': {'filtered': False, 'severity': 'safe'}, 'sexual': {'filtered': False, 'severity': 'safe'}, 'violence': {'filtered': False, 'severity': 'safe'}})], created=1737460848, model='gpt-4o-mini-2024-07-18', object='chat.completion', service_tier=None, system_fingerprint='fp_5154047bf2', usage=CompletionUsage(completion_tokens=60, prompt_tokens=25, total_tokens=85, completion_tokens_details=CompletionTokensDetails(accepted_prediction_tokens=0, audio_tokens=0, reasoning_tokens=0, rejected_prediction_tokens=0), prompt_tokens_details=PromptTokensDetails(audio_tokens=0, cached_tokens=0)), prompt_filter_results=[{'prompt_index': 0, 'content_filter_results': {'hate': {'filtered': False, 'severity': 'safe'}, 'jailbreak': {'filtered': False, 'detected': False}, 'self_harm': {'filtered': False, 'severity': 'safe'}, 'sexual': {'filtered': False, 'severity': 'safe'}, 'violence': {'filtered': False, 'severity': 'safe'}}}])\n",
      "\n",
      "--------------------------------------------------------------------------------\n",
      "\n",
      "Frequency Penalty: 2.0\n",
      "\n",
      "ChatCompletion(id='chatcmpl-As7E1xIF0JzsvrGmdrTFu8sa1Svu8', choices=[Choice(finish_reason='length', index=0, logprobs=None, message=ChatCompletionMessage(content='A fun fact about space is that there are more stars in the universe than there are grains of sand on all the beaches on Earth! Astronomers estimate that there are around 100 billion to 200 billion galaxies, each containing millions or even trillions of stars. This means there could be over', refusal=None, role='assistant', audio=None, function_call=None, tool_calls=None), content_filter_results={'hate': {'filtered': False, 'severity': 'safe'}, 'self_harm': {'filtered': False, 'severity': 'safe'}, 'sexual': {'filtered': False, 'severity': 'safe'}, 'violence': {'filtered': False, 'severity': 'safe'}})], created=1737460849, model='gpt-4o-mini-2024-07-18', object='chat.completion', service_tier=None, system_fingerprint='fp_5154047bf2', usage=CompletionUsage(completion_tokens=60, prompt_tokens=25, total_tokens=85, completion_tokens_details=CompletionTokensDetails(accepted_prediction_tokens=0, audio_tokens=0, reasoning_tokens=0, rejected_prediction_tokens=0), prompt_tokens_details=PromptTokensDetails(audio_tokens=0, cached_tokens=0)), prompt_filter_results=[{'prompt_index': 0, 'content_filter_results': {'hate': {'filtered': False, 'severity': 'safe'}, 'jailbreak': {'filtered': False, 'detected': False}, 'self_harm': {'filtered': False, 'severity': 'safe'}, 'sexual': {'filtered': False, 'severity': 'safe'}, 'violence': {'filtered': False, 'severity': 'safe'}}}])\n",
      "\n",
      "--------------------------------------------------------------------------------\n",
      "\n"
     ]
    }
   ],
   "source": [
    "def call_openai_with_frequency_penalty(frequency_penalty):\n",
    "    response = client.chat.completions.create(\n",
    "          model=CHAT_COMPLETIONS_MODEL,\n",
    "          messages = [{\"role\":\"system\", \"content\":\"You are a helpful assistant.\"},\n",
    "                    {\"role\":\"user\",\"content\": \"Tell me a fun fact about space.\"}],\n",
    "                    max_tokens=60,\n",
    "                    frequency_penalty= frequency_penalty\n",
    "    )\n",
    "    return response\n",
    "\n",
    "penalties = [-1.0, 0.0, 1.0, 2.0]\n",
    "for penalty in penalties:\n",
    "    print(f\"Frequency Penalty: {penalty}\\n\")\n",
    "    print(call_openai_with_frequency_penalty(penalty))\n",
    "    print(\"\\n\" + \"-\"*80 + \"\\n\")\n"
   ]
  },
  {
   "cell_type": "markdown",
   "metadata": {},
   "source": [
    "## Exercise 3: Multi-Completion with 'n' Parameter\n",
    "### Description:\n",
    "- This exercise will help students generate multiple completions for the same prompt and compare the results.\n",
    "\n",
    "### Task:\n",
    "- Generate 3 completions for the same prompt by adjusting the 'n' parameter.\n"
   ]
  },
  {
   "cell_type": "code",
   "execution_count": 35,
   "metadata": {},
   "outputs": [
    {
     "name": "stdout",
     "output_type": "stream",
     "text": [
      "0 Sure! One fun fact about dinosaurs is that the largest dinosaurs, like the Argentinosaurus, could weigh as much as 100 tons, which is roughly equivalent to about 14 adult elephants! These massive herbivores roamed the Earth during the Late Cretaceous period, around 100 million years ago. Despite their size, they were primarily plant-eaters and had long necks that allowed them to reach high vegetation.\n",
      "1 One fun fact about dinosaurs is that not all of them were gigantic! While many popular dinosaurs, like Tyrannosaurus rex and Brachiosaurus, are known for their massive sizes, some dinosaurs were quite small. For example, the Compsognathus was about the size of a chicken, measuring around 3 feet (1 meter) long. This tiny dinosaur was a carnivore and primarily fed on small insects and lizards. The diversity in size among dinosaurs showcases just how varied these\n",
      "2 Sure! Here's a fun fact about dinosaurs: The largest dinosaur known to exist is believed to be the Argentinosaurus, which could reach lengths of over 100 feet (30 meters) and weigh as much as 100 tons! This massive herbivorous dinosaur lived during the Late Cretaceous period in what is now Argentina. Despite its size, it primarily fed on plants, using its long neck to reach high foliage.\n"
     ]
    }
   ],
   "source": [
    "response = client.chat.completions.create(\n",
    "    model=CHAT_COMPLETIONS_MODEL,\n",
    "    messages=[{\"role\": \"system\", \"content\": \"You are a helpful assistant.\"},\n",
    "              {\"role\": \"user\", \"content\": \"Tell me a fun fact about dinosaurs.\"}],\n",
    "    max_tokens=100,\n",
    "    temperature=0.9,\n",
    "    n=3\n",
    ")\n",
    "\n",
    "for index, c in enumerate(response.choices):\n",
    "    print(index, c.message.content)"
   ]
  },
  {
   "cell_type": "markdown",
   "metadata": {},
   "source": [
    "## Exercise 4: Temperature vs. Deterministic Output\n",
    "### Description:\n",
    "- Adjust the 'temperature' parameter to explore the balance between creative and deterministic responses.\n",
    "\n",
    "### Task:\n",
    "- Generate completions with different temperature values and analyze the variance in output.\n"
   ]
  },
  {
   "cell_type": "code",
   "execution_count": 36,
   "metadata": {},
   "outputs": [
    {
     "name": "stdout",
     "output_type": "stream",
     "text": [
      "Temperature: 0.0\n",
      "\n",
      "ChatCompletion(id='chatcmpl-As7GlMwgPBpiOALCvYtInytLQbe8S', choices=[Choice(finish_reason='length', index=0, logprobs=None, message=ChatCompletionMessage(content='Sure! Here are some suggestions for a tech startup name:\\n\\n1. **TechNova**\\n2. **InnoSphere**\\n3. **ByteBridge', refusal=None, role='assistant', audio=None, function_call=None, tool_calls=None), content_filter_results={'hate': {'filtered': False, 'severity': 'safe'}, 'self_harm': {'filtered': False, 'severity': 'safe'}, 'sexual': {'filtered': False, 'severity': 'safe'}, 'violence': {'filtered': False, 'severity': 'safe'}})], created=1737461019, model='gpt-4o-mini-2024-07-18', object='chat.completion', service_tier=None, system_fingerprint='fp_5154047bf2', usage=CompletionUsage(completion_tokens=30, prompt_tokens=26, total_tokens=56, completion_tokens_details=CompletionTokensDetails(accepted_prediction_tokens=0, audio_tokens=0, reasoning_tokens=0, rejected_prediction_tokens=0), prompt_tokens_details=PromptTokensDetails(audio_tokens=0, cached_tokens=0)), prompt_filter_results=[{'prompt_index': 0, 'content_filter_results': {'hate': {'filtered': False, 'severity': 'safe'}, 'jailbreak': {'filtered': False, 'detected': False}, 'self_harm': {'filtered': False, 'severity': 'safe'}, 'sexual': {'filtered': False, 'severity': 'safe'}, 'violence': {'filtered': False, 'severity': 'safe'}}}])\n",
      "\n",
      "--------------------------------------------------------------------------------\n",
      "\n",
      "Temperature: 0.3\n",
      "\n",
      "ChatCompletion(id='chatcmpl-As7GmkyWlHUed6RBrYAtOLJAZ6IUw', choices=[Choice(finish_reason='length', index=0, logprobs=None, message=ChatCompletionMessage(content='Sure! Here are some suggestions for a tech startup name:\\n\\n1. **Innovatech**\\n2. **NexGen Solutions**\\n3. **', refusal=None, role='assistant', audio=None, function_call=None, tool_calls=None), content_filter_results={'hate': {'filtered': False, 'severity': 'safe'}, 'self_harm': {'filtered': False, 'severity': 'safe'}, 'sexual': {'filtered': False, 'severity': 'safe'}, 'violence': {'filtered': False, 'severity': 'safe'}})], created=1737461020, model='gpt-4o-mini-2024-07-18', object='chat.completion', service_tier=None, system_fingerprint='fp_f3927aa00d', usage=CompletionUsage(completion_tokens=30, prompt_tokens=26, total_tokens=56, completion_tokens_details=CompletionTokensDetails(accepted_prediction_tokens=0, audio_tokens=0, reasoning_tokens=0, rejected_prediction_tokens=0), prompt_tokens_details=PromptTokensDetails(audio_tokens=0, cached_tokens=0)), prompt_filter_results=[{'prompt_index': 0, 'content_filter_results': {'hate': {'filtered': False, 'severity': 'safe'}, 'jailbreak': {'filtered': False, 'detected': False}, 'self_harm': {'filtered': False, 'severity': 'safe'}, 'sexual': {'filtered': False, 'severity': 'safe'}, 'violence': {'filtered': False, 'severity': 'safe'}}}])\n",
      "\n",
      "--------------------------------------------------------------------------------\n",
      "\n",
      "Temperature: 0.7\n",
      "\n",
      "ChatCompletion(id='chatcmpl-As7GnH18LMYxkhZKRfZtloNrZwC1L', choices=[Choice(finish_reason='length', index=0, logprobs=None, message=ChatCompletionMessage(content='Sure! Here are some name ideas for your tech startup:\\n\\n1. **InnoVate**\\n2. **TechNexus**\\n3. **', refusal=None, role='assistant', audio=None, function_call=None, tool_calls=None), content_filter_results={'hate': {'filtered': False, 'severity': 'safe'}, 'self_harm': {'filtered': False, 'severity': 'safe'}, 'sexual': {'filtered': False, 'severity': 'safe'}, 'violence': {'filtered': False, 'severity': 'safe'}})], created=1737461021, model='gpt-4o-mini-2024-07-18', object='chat.completion', service_tier=None, system_fingerprint='fp_5154047bf2', usage=CompletionUsage(completion_tokens=30, prompt_tokens=26, total_tokens=56, completion_tokens_details=CompletionTokensDetails(accepted_prediction_tokens=0, audio_tokens=0, reasoning_tokens=0, rejected_prediction_tokens=0), prompt_tokens_details=PromptTokensDetails(audio_tokens=0, cached_tokens=0)), prompt_filter_results=[{'prompt_index': 0, 'content_filter_results': {'hate': {'filtered': False, 'severity': 'safe'}, 'jailbreak': {'filtered': False, 'detected': False}, 'self_harm': {'filtered': False, 'severity': 'safe'}, 'sexual': {'filtered': False, 'severity': 'safe'}, 'violence': {'filtered': False, 'severity': 'safe'}}}])\n",
      "\n",
      "--------------------------------------------------------------------------------\n",
      "\n",
      "Temperature: 1.0\n",
      "\n",
      "ChatCompletion(id='chatcmpl-As7GnxIdufRC9WuAMFUuze0bPlfys', choices=[Choice(finish_reason='length', index=0, logprobs=None, message=ChatCompletionMessage(content='Sure! Here are some suggestions for your tech startup name:\\n\\n1. **InnoVista**\\n2. **TechNectar**\\n3. **Code', refusal=None, role='assistant', audio=None, function_call=None, tool_calls=None), content_filter_results={'hate': {'filtered': False, 'severity': 'safe'}, 'self_harm': {'filtered': False, 'severity': 'safe'}, 'sexual': {'filtered': False, 'severity': 'safe'}, 'violence': {'filtered': False, 'severity': 'safe'}})], created=1737461021, model='gpt-4o-mini-2024-07-18', object='chat.completion', service_tier=None, system_fingerprint='fp_5154047bf2', usage=CompletionUsage(completion_tokens=30, prompt_tokens=26, total_tokens=56, completion_tokens_details=CompletionTokensDetails(accepted_prediction_tokens=0, audio_tokens=0, reasoning_tokens=0, rejected_prediction_tokens=0), prompt_tokens_details=PromptTokensDetails(audio_tokens=0, cached_tokens=0)), prompt_filter_results=[{'prompt_index': 0, 'content_filter_results': {'hate': {'filtered': False, 'severity': 'safe'}, 'jailbreak': {'filtered': False, 'detected': False}, 'self_harm': {'filtered': False, 'severity': 'safe'}, 'sexual': {'filtered': False, 'severity': 'safe'}, 'violence': {'filtered': False, 'severity': 'safe'}}}])\n",
      "\n",
      "--------------------------------------------------------------------------------\n",
      "\n"
     ]
    }
   ],
   "source": [
    "def call_openai_with_temperature(temperature):\n",
    "    response = client.chat.completions.create(\n",
    "          model=CHAT_COMPLETIONS_MODEL,\n",
    "          messages = [{\"role\":\"system\", \"content\":\"You are a helpful assistant.\"},\n",
    "                    {\"role\":\"user\",\"content\": \"Suggest a name for a new tech startup.\"}],\n",
    "                    max_tokens=30,\n",
    "                    temperature= temperature\n",
    "    )\n",
    "    return response\n",
    "\n",
    "temperatures = [0.0, 0.3, 0.7, 1.0]\n",
    "for temp in temperatures:\n",
    "    print(f\"Temperature: {temp}\\n\")\n",
    "    print(call_openai_with_temperature(temp))\n",
    "    print(\"\\n\" + \"-\"*80 + \"\\n\")"
   ]
  }
 ],
 "metadata": {
  "kernelspec": {
   "display_name": ".venv",
   "language": "python",
   "name": "python3"
  },
  "language_info": {
   "codemirror_mode": {
    "name": "ipython",
    "version": 3
   },
   "file_extension": ".py",
   "mimetype": "text/x-python",
   "name": "python",
   "nbconvert_exporter": "python",
   "pygments_lexer": "ipython3",
   "version": "3.12.8"
  }
 },
 "nbformat": 4,
 "nbformat_minor": 4
}
